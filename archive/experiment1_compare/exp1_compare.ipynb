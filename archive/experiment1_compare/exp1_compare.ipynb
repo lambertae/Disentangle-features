{
 "cells": [
  {
   "attachments": {},
   "cell_type": "markdown",
   "metadata": {},
   "source": [
    "# Experiment 1\n",
    "Compare the effect of autoencoder vs deepautoencoder vs direct solver"
   ]
  },
  {
   "attachments": {},
   "cell_type": "markdown",
   "metadata": {},
   "source": [
    "## Helper functions"
   ]
  },
  {
   "cell_type": "code",
   "execution_count": 3,
   "metadata": {},
   "outputs": [],
   "source": [
    "\n",
    "from features import *\n",
    "from metrics import *\n",
    "import os\n",
    "import torch as t\n",
    "import torch.nn as nn\n",
    "# from features import *\n",
    "\n",
    "\n",
    "os.environ[\"CUDA_VISIBLE_DEVICES\"] = \"0\"\n",
    "\n",
    "def noisy_toy(prob, noise_level, hidden, features, size, dtype = t.float32):    \n",
    "    device = t.device(\"cuda\" if t.cuda.is_available() else \"cpu\")\n",
    "    true_emb = t.randn(features, hidden).to(device)\n",
    "    true_emb /= t.norm(true_emb, dim = 1).reshape(-1, 1)\n",
    "    true_emb = true_emb.to(device)\n",
    "    ground_truth = (t.rand((size, features)) < prob).to(dtype).to(device)\n",
    "    acti = ground_truth @ true_emb\n",
    "    noise = t.randn(acti.shape).to(acti.device) * noise_level\n",
    "    acti = acti + noise * noise_level\n",
    "    info = {\"emb\": true_emb, \"feat\": ground_truth}\n",
    "    return acti, info\n"
   ]
  },
  {
   "cell_type": "code",
   "execution_count": 4,
   "metadata": {},
   "outputs": [
    {
     "name": "stdout",
     "output_type": "stream",
     "text": [
      "Executing with num_features: 160 and feature_dim: 20 and reg_param: 0.35\n"
     ]
    },
    {
     "name": "stderr",
     "output_type": "stream",
     "text": [
      "Epoch loss: 0.0158864277, Avg coeffs: 53.109:  60%|█████▉    | 599/1000 [00:17<00:11, 33.55it/s]\n"
     ]
    },
    {
     "ename": "KeyboardInterrupt",
     "evalue": "",
     "output_type": "error",
     "traceback": [
      "\u001b[0;31m---------------------------------------------------------------------------\u001b[0m",
      "\u001b[0;31mKeyboardInterrupt\u001b[0m                         Traceback (most recent call last)",
      "Cell \u001b[0;32mIn[4], line 12\u001b[0m\n\u001b[1;32m     10\u001b[0m \u001b[39mfor\u001b[39;00m tp \u001b[39min\u001b[39;00m \u001b[39mrange\u001b[39m(\u001b[39m3\u001b[39m):\n\u001b[1;32m     11\u001b[0m     \u001b[39mif\u001b[39;00m tp \u001b[39m==\u001b[39m \u001b[39m0\u001b[39m: \u001b[39m# autoencoder\u001b[39;00m\n\u001b[0;32m---> 12\u001b[0m         feat, emb, info \u001b[39m=\u001b[39m AutoEncoder_solver(acti\u001b[39m.\u001b[39;49mclone(), guess_factor \u001b[39m=\u001b[39;49m \u001b[39m8\u001b[39;49m, lr \u001b[39m=\u001b[39;49m \u001b[39m1e-3\u001b[39;49m, epochs \u001b[39m=\u001b[39;49m \u001b[39m1000\u001b[39;49m, batch_size \u001b[39m=\u001b[39;49m \u001b[39m1024\u001b[39;49m, init_lamb \u001b[39m=\u001b[39;49m \u001b[39m0.35\u001b[39;49m, lamb_left \u001b[39m=\u001b[39;49m \u001b[39m0.4\u001b[39;49m, lamb_right \u001b[39m=\u001b[39;49m \u001b[39m0.6\u001b[39;49m, \n\u001b[1;32m     13\u001b[0m                                              adaptive \u001b[39m=\u001b[39;49m \u001b[39mFalse\u001b[39;49;00m, use_deep \u001b[39m=\u001b[39;49m \u001b[39mFalse\u001b[39;49;00m)\n\u001b[1;32m     14\u001b[0m     \u001b[39melif\u001b[39;00m tp \u001b[39m==\u001b[39m \u001b[39m1\u001b[39m: \u001b[39m# deep\u001b[39;00m\n\u001b[1;32m     15\u001b[0m         feat, emb, info \u001b[39m=\u001b[39m AutoEncoder_solver(acti\u001b[39m.\u001b[39mclone(), guess_factor \u001b[39m=\u001b[39m \u001b[39m8\u001b[39m, lr \u001b[39m=\u001b[39m \u001b[39m1e-3\u001b[39m, epochs \u001b[39m=\u001b[39m \u001b[39m1000\u001b[39m, batch_size \u001b[39m=\u001b[39m \u001b[39m1024\u001b[39m, init_lamb \u001b[39m=\u001b[39m \u001b[39m0.35\u001b[39m, lamb_left \u001b[39m=\u001b[39m \u001b[39m0.4\u001b[39m, lamb_right \u001b[39m=\u001b[39m \u001b[39m0.6\u001b[39m, \n\u001b[1;32m     16\u001b[0m                                              adaptive \u001b[39m=\u001b[39m \u001b[39mFalse\u001b[39;00m, use_deep \u001b[39m=\u001b[39m \u001b[39mTrue\u001b[39;00m) \n",
      "File \u001b[0;32m/scratch/dengm/distent/Disentangle-features/archive/features.py:141\u001b[0m, in \u001b[0;36mAutoEncoder_solver\u001b[0;34m(dataset, guess_factor, lr, epochs, batch_size, init_lamb, lamb_left, lamb_right, adaptive, use_deep)\u001b[0m\n\u001b[1;32m    139\u001b[0m solver_lamb \u001b[39m=\u001b[39m init_lamb\n\u001b[1;32m    140\u001b[0m \u001b[39mwhile\u001b[39;00m \u001b[39m1\u001b[39m:\n\u001b[0;32m--> 141\u001b[0m   model, coeffs \u001b[39m=\u001b[39m run_disentangle(dataset, num_features\u001b[39m=\u001b[39;49mdataset\u001b[39m.\u001b[39;49mshape[\u001b[39m1\u001b[39;49m] \u001b[39m*\u001b[39;49m guess_factor, feature_dim\u001b[39m=\u001b[39;49mdataset\u001b[39m.\u001b[39;49mshape[\u001b[39m1\u001b[39;49m], reg_param\u001b[39m=\u001b[39;49msolver_lamb, batch_size\u001b[39m=\u001b[39;49mbatch_size, epochs\u001b[39m=\u001b[39;49mepochs, lr\u001b[39m=\u001b[39;49mlr)\n\u001b[1;32m    142\u001b[0m   \u001b[39mimport\u001b[39;00m \u001b[39mnumpy\u001b[39;00m \u001b[39mas\u001b[39;00m \u001b[39mnp\u001b[39;00m \n\u001b[1;32m    143\u001b[0m   encoded, decoded, num_coeffs \u001b[39m=\u001b[39m model(dataset\u001b[39m.\u001b[39mto(\u001b[39m'\u001b[39m\u001b[39mcuda\u001b[39m\u001b[39m'\u001b[39m)\u001b[39m.\u001b[39mdouble())\n",
      "File \u001b[0;32m/scratch/dengm/distent/Disentangle-features/archive/features.py:118\u001b[0m, in \u001b[0;36mAutoEncoder_solver.<locals>.run_disentangle\u001b[0;34m(dataset, num_features, feature_dim, reg_param, batch_size, epochs, lr)\u001b[0m\n\u001b[1;32m    116\u001b[0m avg_coeffs \u001b[39m=\u001b[39m \u001b[39m0.0\u001b[39m\n\u001b[1;32m    117\u001b[0m num_count \u001b[39m=\u001b[39m \u001b[39m0\u001b[39m\n\u001b[0;32m--> 118\u001b[0m \u001b[39mfor\u001b[39;00m _, features \u001b[39min\u001b[39;00m \u001b[39menumerate\u001b[39m(loader):\n\u001b[1;32m    119\u001b[0m     optimizer\u001b[39m.\u001b[39mzero_grad()\n\u001b[1;32m    120\u001b[0m     features \u001b[39m=\u001b[39m features\u001b[39m.\u001b[39mto(\u001b[39m'\u001b[39m\u001b[39mcuda\u001b[39m\u001b[39m'\u001b[39m)\u001b[39m.\u001b[39mdouble()\n",
      "File \u001b[0;32m/data/scratch/dengm/anaconda3/envs/edm/lib/python3.9/site-packages/torch/utils/data/dataloader.py:628\u001b[0m, in \u001b[0;36m_BaseDataLoaderIter.__next__\u001b[0;34m(self)\u001b[0m\n\u001b[1;32m    625\u001b[0m \u001b[39mif\u001b[39;00m \u001b[39mself\u001b[39m\u001b[39m.\u001b[39m_sampler_iter \u001b[39mis\u001b[39;00m \u001b[39mNone\u001b[39;00m:\n\u001b[1;32m    626\u001b[0m     \u001b[39m# TODO(https://github.com/pytorch/pytorch/issues/76750)\u001b[39;00m\n\u001b[1;32m    627\u001b[0m     \u001b[39mself\u001b[39m\u001b[39m.\u001b[39m_reset()  \u001b[39m# type: ignore[call-arg]\u001b[39;00m\n\u001b[0;32m--> 628\u001b[0m data \u001b[39m=\u001b[39m \u001b[39mself\u001b[39;49m\u001b[39m.\u001b[39;49m_next_data()\n\u001b[1;32m    629\u001b[0m \u001b[39mself\u001b[39m\u001b[39m.\u001b[39m_num_yielded \u001b[39m+\u001b[39m\u001b[39m=\u001b[39m \u001b[39m1\u001b[39m\n\u001b[1;32m    630\u001b[0m \u001b[39mif\u001b[39;00m \u001b[39mself\u001b[39m\u001b[39m.\u001b[39m_dataset_kind \u001b[39m==\u001b[39m _DatasetKind\u001b[39m.\u001b[39mIterable \u001b[39mand\u001b[39;00m \\\n\u001b[1;32m    631\u001b[0m         \u001b[39mself\u001b[39m\u001b[39m.\u001b[39m_IterableDataset_len_called \u001b[39mis\u001b[39;00m \u001b[39mnot\u001b[39;00m \u001b[39mNone\u001b[39;00m \u001b[39mand\u001b[39;00m \\\n\u001b[1;32m    632\u001b[0m         \u001b[39mself\u001b[39m\u001b[39m.\u001b[39m_num_yielded \u001b[39m>\u001b[39m \u001b[39mself\u001b[39m\u001b[39m.\u001b[39m_IterableDataset_len_called:\n",
      "File \u001b[0;32m/data/scratch/dengm/anaconda3/envs/edm/lib/python3.9/site-packages/torch/utils/data/dataloader.py:671\u001b[0m, in \u001b[0;36m_SingleProcessDataLoaderIter._next_data\u001b[0;34m(self)\u001b[0m\n\u001b[1;32m    669\u001b[0m \u001b[39mdef\u001b[39;00m \u001b[39m_next_data\u001b[39m(\u001b[39mself\u001b[39m):\n\u001b[1;32m    670\u001b[0m     index \u001b[39m=\u001b[39m \u001b[39mself\u001b[39m\u001b[39m.\u001b[39m_next_index()  \u001b[39m# may raise StopIteration\u001b[39;00m\n\u001b[0;32m--> 671\u001b[0m     data \u001b[39m=\u001b[39m \u001b[39mself\u001b[39;49m\u001b[39m.\u001b[39;49m_dataset_fetcher\u001b[39m.\u001b[39;49mfetch(index)  \u001b[39m# may raise StopIteration\u001b[39;00m\n\u001b[1;32m    672\u001b[0m     \u001b[39mif\u001b[39;00m \u001b[39mself\u001b[39m\u001b[39m.\u001b[39m_pin_memory:\n\u001b[1;32m    673\u001b[0m         data \u001b[39m=\u001b[39m _utils\u001b[39m.\u001b[39mpin_memory\u001b[39m.\u001b[39mpin_memory(data, \u001b[39mself\u001b[39m\u001b[39m.\u001b[39m_pin_memory_device)\n",
      "File \u001b[0;32m/data/scratch/dengm/anaconda3/envs/edm/lib/python3.9/site-packages/torch/utils/data/_utils/fetch.py:58\u001b[0m, in \u001b[0;36m_MapDatasetFetcher.fetch\u001b[0;34m(self, possibly_batched_index)\u001b[0m\n\u001b[1;32m     56\u001b[0m         data \u001b[39m=\u001b[39m \u001b[39mself\u001b[39m\u001b[39m.\u001b[39mdataset\u001b[39m.\u001b[39m__getitems__(possibly_batched_index)\n\u001b[1;32m     57\u001b[0m     \u001b[39melse\u001b[39;00m:\n\u001b[0;32m---> 58\u001b[0m         data \u001b[39m=\u001b[39m [\u001b[39mself\u001b[39m\u001b[39m.\u001b[39mdataset[idx] \u001b[39mfor\u001b[39;00m idx \u001b[39min\u001b[39;00m possibly_batched_index]\n\u001b[1;32m     59\u001b[0m \u001b[39melse\u001b[39;00m:\n\u001b[1;32m     60\u001b[0m     data \u001b[39m=\u001b[39m \u001b[39mself\u001b[39m\u001b[39m.\u001b[39mdataset[possibly_batched_index]\n",
      "File \u001b[0;32m/data/scratch/dengm/anaconda3/envs/edm/lib/python3.9/site-packages/torch/utils/data/_utils/fetch.py:58\u001b[0m, in \u001b[0;36m<listcomp>\u001b[0;34m(.0)\u001b[0m\n\u001b[1;32m     56\u001b[0m         data \u001b[39m=\u001b[39m \u001b[39mself\u001b[39m\u001b[39m.\u001b[39mdataset\u001b[39m.\u001b[39m__getitems__(possibly_batched_index)\n\u001b[1;32m     57\u001b[0m     \u001b[39melse\u001b[39;00m:\n\u001b[0;32m---> 58\u001b[0m         data \u001b[39m=\u001b[39m [\u001b[39mself\u001b[39;49m\u001b[39m.\u001b[39;49mdataset[idx] \u001b[39mfor\u001b[39;00m idx \u001b[39min\u001b[39;00m possibly_batched_index]\n\u001b[1;32m     59\u001b[0m \u001b[39melse\u001b[39;00m:\n\u001b[1;32m     60\u001b[0m     data \u001b[39m=\u001b[39m \u001b[39mself\u001b[39m\u001b[39m.\u001b[39mdataset[possibly_batched_index]\n",
      "\u001b[0;31mKeyboardInterrupt\u001b[0m: "
     ]
    }
   ],
   "source": [
    "r2list = [[] for i in range(3)]\n",
    "sparsity_list = [[] for i in range(3)]\n",
    "mmcs_list = [[] for i in range(3)]\n",
    "for dims in [20, 40, 80, 160]:\n",
    "    num_feats = 5\n",
    "    features = 4 * dims\n",
    "    acti, metainfo = noisy_toy(num_feats / features, 0.3 / (dims ** 0.5), dims, features, 4096)\n",
    "    true_feat = metainfo[\"feat\"]\n",
    "    true_emb = metainfo[\"emb\"]\n",
    "    for tp in range(3):\n",
    "        if tp == 0: # autoencoder\n",
    "            feat, emb, info = AutoEncoder_solver(acti.clone(), guess_factor = 8, lr = 1e-3, epochs = 1000, batch_size = 1024, init_lamb = 0.35, lamb_left = 0.4, lamb_right = 0.6, \n",
    "                                                 adaptive = False, use_deep = False)\n",
    "        elif tp == 1: # deep\n",
    "            feat, emb, info = AutoEncoder_solver(acti.clone(), guess_factor = 8, lr = 1e-3, epochs = 1000, batch_size = 1024, init_lamb = 0.35, lamb_left = 0.4, lamb_right = 0.6, \n",
    "                                                 adaptive = False, use_deep = True) \n",
    "        else:\n",
    "            feat, emb, info = GD_solver(acti.clone(), guess_factor = 8, lr = 3e-3, steps = 10000, init_lamb = 0.35, lamb_left = 0.4, lamb_right = 0.6, adaptive = False)\n",
    "\n",
    "        corr = average_r2(true_feat, feat)\n",
    "        sparsity = metric_total_acti(feat)\n",
    "        mmcs_val = mmcs(true_emb, emb)\n",
    "        r2list[tp].append(corr)\n",
    "        sparsity_list[tp].append(sparsity)\n",
    "        mmcs_list[tp].append(mmcs_val)\n",
    "        print(f\"Dimension:{dims}, type:{tp}\")\n",
    "        print(f\"Average correlation:{corr}\")\n",
    "        print(f\"Sparsity:{sparsity}, actual:{metric_total_acti(true_feat.cpu())}\")\n",
    "        print(f\"MMCS:{mmcs_val}\")"
   ]
  },
  {
   "attachments": {},
   "cell_type": "markdown",
   "metadata": {},
   "source": [
    "Helper functions for plotting"
   ]
  },
  {
   "cell_type": "code",
   "execution_count": null,
   "metadata": {},
   "outputs": [],
   "source": [
    "import matplotlib.pyplot as plt\n",
    "name = [\"Autoencoder\", \"Deep\", \"GD\"]\n",
    "def plot_figure(values, title):\n",
    "    plt.figure(figsize=(12, 6))\n",
    "    plt.title(title)\n",
    "    plt.xlabel(\"Dimension\")\n",
    "    plt.ylabel(\"Value\")\n",
    "    for i in range(3):\n",
    "        plt.plot([20, 40, 80, 160], values[i], label = name[i])\n",
    "    plt.legend()\n",
    "    plt.savefig(f\"exp1_{title}.png\")\n",
    "    plt.show()\n",
    "plot_figure(r2list, \"Average correlation\")\n",
    "plot_figure(sparsity_list, \"Sparsity\")\n",
    "plot_figure(mmcs_list, \"MMCS\")"
   ]
  }
 ],
 "metadata": {
  "kernelspec": {
   "display_name": "edm",
   "language": "python",
   "name": "python3"
  },
  "language_info": {
   "codemirror_mode": {
    "name": "ipython",
    "version": 3
   },
   "file_extension": ".py",
   "mimetype": "text/x-python",
   "name": "python",
   "nbconvert_exporter": "python",
   "pygments_lexer": "ipython3",
   "version": "3.9.16"
  },
  "orig_nbformat": 4
 },
 "nbformat": 4,
 "nbformat_minor": 2
}
