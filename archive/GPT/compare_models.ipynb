{
 "cells": [
  {
   "cell_type": "code",
   "execution_count": 1,
   "metadata": {},
   "outputs": [
    {
     "name": "stderr",
     "output_type": "stream",
     "text": [
      "/data/scratch/dengm/anaconda3/envs/edm/lib/python3.9/site-packages/tqdm/auto.py:21: TqdmWarning: IProgress not found. Please update jupyter and ipywidgets. See https://ipywidgets.readthedocs.io/en/stable/user_install.html\n",
      "  from .autonotebook import tqdm as notebook_tqdm\n"
     ]
    }
   ],
   "source": [
    "from transformers import AutoModelForCausalLM, AutoTokenizer, GenerationConfig\n",
    "\n",
    "import sys\n",
    "sys.path.append('/scratch/dengm/distent/Disentangle-features/archive')\n",
    "from features import *\n",
    "from metrics import *\n",
    "import os\n",
    "import torch as t\n",
    "import torch.nn as nn\n",
    "import pickle\n",
    "import numpy as np\n",
    "import torch as t\n"
   ]
  },
  {
   "cell_type": "code",
   "execution_count": 7,
   "metadata": {},
   "outputs": [
    {
     "name": "stdout",
     "output_type": "stream",
     "text": [
      "(50257, 64)\n",
      "(50257, 128)\n",
      "(50257, 768)\n",
      "(50257, 768)\n"
     ]
    },
    {
     "name": "stderr",
     "output_type": "stream",
     "text": [
      "Downloading (…)lve/main/config.json: 100%|██████████| 1.35k/1.35k [00:00<00:00, 1.19MB/s]\n",
      "Downloading pytorch_model.bin:   5%|▍         | 262M/5.31G [00:14<04:15, 19.8MB/s] "
     ]
    },
    {
     "name": "stderr",
     "output_type": "stream",
     "text": [
      "Downloading pytorch_model.bin:  14%|█▍        | 765M/5.31G [00:46<03:32, 21.4MB/s]"
     ]
    }
   ],
   "source": [
    "model_list = ['roneneldan/TinyStories-1M', 'roneneldan/TinyStories-3M', 'roneneldan/TinyStories-33M', 'EleutherAI/gpt-neo-125M', 'EleutherAI/gpt-neo-1.3B']\n",
    "for name in model_list:\n",
    "    model = AutoModelForCausalLM.from_pretrained(name)\n",
    "    tokenizer = AutoTokenizer.from_pretrained(\"EleutherAI/gpt-neo-125M\")\n",
    "    def get_acti(samples, emb, tokenizer):\n",
    "        idList = np.random.choice(emb.shape[0], samples, replace = False)\n",
    "        words = tokenizer.convert_ids_to_tokens(idList)\n",
    "        embs = emb[idList]\n",
    "        return embs, words\n",
    "    emb = model.transformer.wte.weight.detach().numpy()\n",
    "    embs, words = get_acti(emb.shape[0], emb, tokenizer)\n",
    "    suffix = name.split('/')[-1]\n",
    "    np.save(f\"{suffix}_embs.npy\", embs)\n",
    "    np.save(f\"{suffix}_words.npy\", words)\n",
    "    print(embs.shape)"
   ]
  },
  {
   "cell_type": "code",
   "execution_count": null,
   "metadata": {},
   "outputs": [],
   "source": []
  }
 ],
 "metadata": {
  "kernelspec": {
   "display_name": "edm",
   "language": "python",
   "name": "python3"
  },
  "language_info": {
   "codemirror_mode": {
    "name": "ipython",
    "version": 3
   },
   "file_extension": ".py",
   "mimetype": "text/x-python",
   "name": "python",
   "nbconvert_exporter": "python",
   "pygments_lexer": "ipython3",
   "version": "3.9.16"
  },
  "orig_nbformat": 4
 },
 "nbformat": 4,
 "nbformat_minor": 2
}
