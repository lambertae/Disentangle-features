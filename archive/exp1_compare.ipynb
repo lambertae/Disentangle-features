{
 "cells": [
  {
   "attachments": {},
   "cell_type": "markdown",
   "metadata": {},
   "source": [
    "# Experiment 1\n",
    "Compare the effect of autoencoder vs deepautoencoder vs direct solver"
   ]
  },
  {
   "attachments": {},
   "cell_type": "markdown",
   "metadata": {},
   "source": [
    "## Helper functions"
   ]
  },
  {
   "cell_type": "code",
   "execution_count": 2,
   "metadata": {},
   "outputs": [],
   "source": [
    "\n",
    "from features import *\n",
    "from metrics import *\n",
    "import os\n",
    "import torch as t\n",
    "import torch.nn as nn\n",
    "# from features import *\n",
    "\n",
    "\n",
    "os.environ[\"CUDA_VISIBLE_DEVICES\"] = \"0,1,2,3\"\n",
    "\n",
    "def noisy_toy(prob, noise_level, hidden, features, size, dtype = t.float32):    \n",
    "    device = t.device(\"cuda\" if t.cuda.is_available() else \"cpu\")\n",
    "    true_emb = t.randn(features, hidden).to(device)\n",
    "    true_emb /= t.norm(true_emb, dim = 1).reshape(-1, 1)\n",
    "    true_emb = true_emb.to(device)\n",
    "    ground_truth = (t.rand((size, features)) < prob).to(dtype).to(device)\n",
    "    acti = ground_truth @ true_emb\n",
    "    noise = t.randn(acti.shape).to(acti.device) * noise_level\n",
    "    acti = acti + noise * noise_level\n",
    "    info = {\"emb\": true_emb, \"feat\": ground_truth}\n",
    "    return acti, info\n"
   ]
  },
  {
   "cell_type": "code",
   "execution_count": 6,
   "metadata": {},
   "outputs": [
    {
     "name": "stdout",
     "output_type": "stream",
     "text": [
      "Executing with num_features: 160 and feature_dim: 20 and reg_param: 0.35\n"
     ]
    },
    {
     "name": "stderr",
     "output_type": "stream",
     "text": [
      "Epoch loss: 0.0151072916, Avg coeffs: 55.038: 100%|██████████| 3000/3000 [00:58<00:00, 50.88it/s]\n"
     ]
    },
    {
     "name": "stdout",
     "output_type": "stream",
     "text": [
      "Best coeffs:0\n",
      "torch.Size([160, 20])\n",
      "Dimension:20, type:0\n",
      "Average correlation:0.14226707278496137\n",
      "Sparsity:12.7781678886362, actual:5.015094757080078\n",
      "MMCS:0.6991803164373078\n",
      "Executing with num_features: 160 and feature_dim: 20 and reg_param: 0.35\n"
     ]
    },
    {
     "name": "stderr",
     "output_type": "stream",
     "text": [
      "Epoch loss: 0.0138892059, Avg coeffs: 38.213: 100%|██████████| 3000/3000 [01:14<00:00, 40.23it/s]\n"
     ]
    },
    {
     "name": "stdout",
     "output_type": "stream",
     "text": [
      "Best coeffs:0\n",
      "torch.Size([160, 20])\n",
      "Dimension:20, type:1\n",
      "Average correlation:0.16054384276045836\n",
      "Sparsity:8.671326330171727, actual:5.015094757080078\n",
      "MMCS:0.7537565755544928\n",
      "torch.Size([4000, 20])\n"
     ]
    },
    {
     "name": "stderr",
     "output_type": "stream",
     "text": [
      "100%|██████████| 10000/10000 [00:11<00:00, 875.29it/s, accuracy=0, loss=5.41e+3]\n"
     ]
    },
    {
     "name": "stdout",
     "output_type": "stream",
     "text": [
      "Dimension:20, type:2\n",
      "Average correlation:0.4075937086004494\n",
      "Sparsity:3.8696460723876953, actual:5.015094757080078\n",
      "MMCS:0.9823652505874634\n",
      "Executing with num_features: 320 and feature_dim: 40 and reg_param: 0.35\n"
     ]
    },
    {
     "name": "stderr",
     "output_type": "stream",
     "text": [
      "Epoch loss: 0.0099623331, Avg coeffs: 101.994:  37%|███▋      | 1114/3000 [00:21<00:38, 49.60it/s]"
     ]
    }
   ],
   "source": [
    "r2list = [[] for i in range(3)]\n",
    "sparsity_list = [[] for i in range(3)]\n",
    "mmcs_list = [[] for i in range(3)]\n",
    "for dims in [20, 40, 80, 160]:\n",
    "    num_feats = 5\n",
    "    features = 4 * dims\n",
    "    acti, metainfo = noisy_toy(num_feats / features, 0.3 / (dims ** 0.5), dims, features, 4000)\n",
    "    true_feat = metainfo[\"feat\"]\n",
    "    true_emb = metainfo[\"emb\"]\n",
    "    for tp in range(3):\n",
    "        if tp == 0: # autoencoder\n",
    "            feat, emb, info = AutoEncoder_solver(acti.clone(), guess_factor = 8, lr = 3e-3, epochs = 3000, batch_size = 512, init_lamb = 0.35, lamb_left = 0.4, lamb_right = 0.6, \n",
    "                                                 adaptive = False, use_deep = False)\n",
    "        elif tp == 1: # deep\n",
    "            feat, emb, info = AutoEncoder_solver(acti.clone(), guess_factor = 8, lr = 3e-3, epochs = 3000, batch_size = 512, init_lamb = 0.35, lamb_left = 0.4, lamb_right = 0.6, \n",
    "                                                 adaptive = False, use_deep = True) \n",
    "        else:\n",
    "            feat, emb, info = GD_solver(acti.clone(), guess_factor = 8, lr = 3e-3, steps = 10000, init_lamb = 0.35, lamb_left = 0.4, lamb_right = 0.6, adaptive = False)\n",
    "\n",
    "        corr = average_r2(true_feat, feat)\n",
    "        sparsity = metric_total_acti(feat)\n",
    "        mmcs_val = mmcs(true_emb, emb)\n",
    "        r2list[tp].append(corr)\n",
    "        sparsity_list[tp].append(sparsity)\n",
    "        mmcs_list[tp].append(mmcs_val)\n",
    "        print(f\"Dimension:{dims}, type:{tp}\")\n",
    "        print(f\"Average correlation:{corr}\")\n",
    "        print(f\"Sparsity:{sparsity}, actual:{metric_total_acti(true_feat.cpu())}\")\n",
    "        print(f\"MMCS:{mmcs_val}\")"
   ]
  },
  {
   "attachments": {},
   "cell_type": "markdown",
   "metadata": {},
   "source": [
    "Helper functions for plotting"
   ]
  },
  {
   "cell_type": "code",
   "execution_count": null,
   "metadata": {},
   "outputs": [],
   "source": [
    "name = [\"Autoencoder\", \"Deep\", \"GD\"]\n",
    "def plot_figure(values, title):\n",
    "    plt.figure(figsize=(12, 6))\n",
    "    plt.title(title)\n",
    "    plt.xlabel(\"Dimension\")\n",
    "    plt.ylabel(\"Value\")\n",
    "    for i in range(3):\n",
    "        plt.plot([20, 40, 80, 160], values[i], label = name[i])\n",
    "    plt.legend()\n",
    "    plt.show()\n",
    "plot_figure(r2list, \"Average correlation\")\n",
    "plot_figure(sparsity_list, \"Sparsity\")\n",
    "plot_figure(mmcs_list, \"MMCS\")"
   ]
  },
  {
   "cell_type": "code",
   "execution_count": 5,
   "metadata": {},
   "outputs": [
    {
     "name": "stdout",
     "output_type": "stream",
     "text": [
      "torch.Size([5000, 10])\n"
     ]
    },
    {
     "name": "stderr",
     "output_type": "stream",
     "text": [
      "100%|██████████| 10000/10000 [00:14<00:00, 676.66it/s, accuracy=0, loss=3.91e+3]\n"
     ]
    },
    {
     "name": "stdout",
     "output_type": "stream",
     "text": [
      "Average correlation:0.38911544789198793\n",
      "Sparsity:2.607215404510498, actual:3.125051975250244\n",
      "MMCS:0.9552534222602844\n"
     ]
    }
   ],
   "source": [
    "feat1, emb1, info1 = GD_solver(acti.clone(), guess_factor = 8, lr = 3e-3, steps = 10000, init_lamb = 0.35, lamb_left = 0.4, lamb_right = 0.6, adaptive = False)\n",
    "print(f\"Average correlation:{average_r2(true_feat, feat1, True)}\")\n",
    "print(f\"Sparsity:{metric_total_acti(feat1)}, actual:{metric_total_acti(true_feat.cpu())}\")\n",
    "print(f\"MMCS:{mmcs(true_emb, emb1)}\")\n"
   ]
  },
  {
   "cell_type": "code",
   "execution_count": null,
   "metadata": {},
   "outputs": [
    {
     "name": "stdout",
     "output_type": "stream",
     "text": [
      "tensor([0., 0., 0.,  ..., 0., 0., 0.], device='cuda:0') tensor([0.0000, 0.4570, 0.0000,  ..., 0.0000, 0.0000, 0.0000],\n",
      "       dtype=torch.float64)\n",
      "tensor([0., 0., 0.,  ..., 0., 0., 0.], device='cuda:0') tensor([ 2.9012e-05,  1.4047e-04, -4.1133e-05,  ...,  3.9692e-05,\n",
      "         7.9736e-05,  4.2892e-04])\n",
      "-45.362464613105324\n",
      "-131.35789242655392\n",
      "torch.Size([66, 10])\n"
     ]
    },
    {
     "data": {
      "image/png": "[encoded data removed]",
      "text/plain": [
       "<Figure size 640x480 with 1 Axes>"
      ]
     },
     "metadata": {},
     "output_type": "display_data"
    }
   ],
   "source": [
    "def plot_feat(feat1):\n",
    "    for i in range(1):\n",
    "        maxr2 = -100\n",
    "        id = 0\n",
    "        for j in range(feat1.shape[1]):\n",
    "            # print(r2(ground_truth[:, i].cpu().numpy(), feat[:, j].cpu().numpy()))\n",
    "            rval = r2(true_feat[:, i].cpu().numpy(), feat1[:, j].cpu().numpy())\n",
    "            if rval > maxr2:\n",
    "                maxr2 = rval\n",
    "                id = j\n",
    "    print(true_feat[:, 0], feat1[:, id])\n",
    "    import matplotlib.pyplot as plt\n",
    "    plt.plot(true_feat[:, 0].cpu().numpy(), feat1[:, id].cpu().numpy(), 'o')\n",
    "\n",
    "def average_r2(ground_truth, acti):\n",
    "    baseline_r2 = []\n",
    "    for i in range(ground_truth.shape[1]):\n",
    "        maxr2 = -100\n",
    "        for j in range(acti.shape[1]):\n",
    "            # print(r2(ground_truth[:, i].cpu().numpy(), feat[:, j].cpu().numpy()))\n",
    "            rval = r2(ground_truth[:, i].cpu().numpy(), acti[:, j].cpu().numpy())\n",
    "            if rval > maxr2:\n",
    "                maxr2 = rval\n",
    "        cursum = 0\n",
    "        for j in range(acti.shape[1]):\n",
    "            rval = r2(ground_truth[:, i].cpu().numpy(), acti[:, j].cpu().numpy())\n",
    "            if rval > 0:#maxr2 / 2:\n",
    "                cursum += acti[:, j].cpu().numpy()\n",
    "        baseline_r2.append(r2(ground_truth[:, i].cpu().numpy(), cursum))\n",
    "    return np.mean(baseline_r2)\n",
    "plot_feat(feat)\n",
    "plot_feat(feat1)\n",
    "# newf, newe = condense_features(feat1, emb1, 0.65)\n",
    "# print(average_r2(true_feat, newf))\n",
    "print(average_r2(true_feat, feat1))\n",
    "print(average_r2(true_feat, feat))\n",
    "print(newe.shape)"
   ]
  },
  {
   "cell_type": "code",
   "execution_count": 48,
   "metadata": {},
   "outputs": [
    {
     "name": "stdout",
     "output_type": "stream",
     "text": [
      "0.8616426\n",
      "0.8616426\n",
      "0.9683758\n",
      "0.9683758\n",
      "4.452575\n",
      "2.6176965\n"
     ]
    },
    {
     "ename": "TypeError",
     "evalue": "max() received an invalid combination of arguments - got (out=NoneType, axis=int, ), but expected one of:\n * ()\n * (Tensor other)\n * (int dim, bool keepdim)\n      didn't match because some of the keywords were incorrect: out, axis\n * (name dim, bool keepdim)\n      didn't match because some of the keywords were incorrect: out, axis\n",
     "output_type": "error",
     "traceback": [
      "\u001b[0;31m---------------------------------------------------------------------------\u001b[0m",
      "\u001b[0;31mTypeError\u001b[0m                                 Traceback (most recent call last)",
      "Cell \u001b[0;32mIn[48], line 7\u001b[0m\n\u001b[1;32m      5\u001b[0m \u001b[39mdef\u001b[39;00m \u001b[39mlinf\u001b[39m(feat1):\n\u001b[1;32m      6\u001b[0m     \u001b[39mreturn\u001b[39;00m np\u001b[39m.\u001b[39mamax(np\u001b[39m.\u001b[39mabs(feat1), axis \u001b[39m=\u001b[39m \u001b[39m1\u001b[39m)\n\u001b[0;32m----> 7\u001b[0m \u001b[39mprint\u001b[39m(linf(feat))\n\u001b[1;32m      8\u001b[0m \u001b[39m# print(average_r2(ground_truth, feat))\u001b[39;00m\n\u001b[1;32m      9\u001b[0m \u001b[39m# get max feat1, 0\u001b[39;00m\n\u001b[1;32m     10\u001b[0m chkmax0 \u001b[39m=\u001b[39m t\u001b[39m.\u001b[39mmaximum(feat1, t\u001b[39m.\u001b[39mzeros_like(feat1))\n",
      "Cell \u001b[0;32mIn[48], line 6\u001b[0m, in \u001b[0;36mlinf\u001b[0;34m(feat1)\u001b[0m\n\u001b[1;32m      5\u001b[0m \u001b[39mdef\u001b[39;00m \u001b[39mlinf\u001b[39m(feat1):\n\u001b[0;32m----> 6\u001b[0m     \u001b[39mreturn\u001b[39;00m np\u001b[39m.\u001b[39;49mamax(np\u001b[39m.\u001b[39;49mabs(feat1), axis \u001b[39m=\u001b[39;49m \u001b[39m1\u001b[39;49m)\n",
      "File \u001b[0;32m<__array_function__ internals>:180\u001b[0m, in \u001b[0;36mamax\u001b[0;34m(*args, **kwargs)\u001b[0m\n",
      "File \u001b[0;32m/data/scratch/dengm/anaconda3/envs/edm/lib/python3.9/site-packages/numpy/core/fromnumeric.py:2793\u001b[0m, in \u001b[0;36mamax\u001b[0;34m(a, axis, out, keepdims, initial, where)\u001b[0m\n\u001b[1;32m   2677\u001b[0m \u001b[39m@array_function_dispatch\u001b[39m(_amax_dispatcher)\n\u001b[1;32m   2678\u001b[0m \u001b[39mdef\u001b[39;00m \u001b[39mamax\u001b[39m(a, axis\u001b[39m=\u001b[39m\u001b[39mNone\u001b[39;00m, out\u001b[39m=\u001b[39m\u001b[39mNone\u001b[39;00m, keepdims\u001b[39m=\u001b[39mnp\u001b[39m.\u001b[39m_NoValue, initial\u001b[39m=\u001b[39mnp\u001b[39m.\u001b[39m_NoValue,\n\u001b[1;32m   2679\u001b[0m          where\u001b[39m=\u001b[39mnp\u001b[39m.\u001b[39m_NoValue):\n\u001b[1;32m   2680\u001b[0m \u001b[39m    \u001b[39m\u001b[39m\"\"\"\u001b[39;00m\n\u001b[1;32m   2681\u001b[0m \u001b[39m    Return the maximum of an array or maximum along an axis.\u001b[39;00m\n\u001b[1;32m   2682\u001b[0m \n\u001b[0;32m   (...)\u001b[0m\n\u001b[1;32m   2791\u001b[0m \u001b[39m    5\u001b[39;00m\n\u001b[1;32m   2792\u001b[0m \u001b[39m    \"\"\"\u001b[39;00m\n\u001b[0;32m-> 2793\u001b[0m     \u001b[39mreturn\u001b[39;00m _wrapreduction(a, np\u001b[39m.\u001b[39;49mmaximum, \u001b[39m'\u001b[39;49m\u001b[39mmax\u001b[39;49m\u001b[39m'\u001b[39;49m, axis, \u001b[39mNone\u001b[39;49;00m, out,\n\u001b[1;32m   2794\u001b[0m                           keepdims\u001b[39m=\u001b[39;49mkeepdims, initial\u001b[39m=\u001b[39;49minitial, where\u001b[39m=\u001b[39;49mwhere)\n",
      "File \u001b[0;32m/data/scratch/dengm/anaconda3/envs/edm/lib/python3.9/site-packages/numpy/core/fromnumeric.py:84\u001b[0m, in \u001b[0;36m_wrapreduction\u001b[0;34m(obj, ufunc, method, axis, dtype, out, **kwargs)\u001b[0m\n\u001b[1;32m     82\u001b[0m             \u001b[39mreturn\u001b[39;00m reduction(axis\u001b[39m=\u001b[39maxis, dtype\u001b[39m=\u001b[39mdtype, out\u001b[39m=\u001b[39mout, \u001b[39m*\u001b[39m\u001b[39m*\u001b[39mpasskwargs)\n\u001b[1;32m     83\u001b[0m         \u001b[39melse\u001b[39;00m:\n\u001b[0;32m---> 84\u001b[0m             \u001b[39mreturn\u001b[39;00m reduction(axis\u001b[39m=\u001b[39;49maxis, out\u001b[39m=\u001b[39;49mout, \u001b[39m*\u001b[39;49m\u001b[39m*\u001b[39;49mpasskwargs)\n\u001b[1;32m     86\u001b[0m \u001b[39mreturn\u001b[39;00m ufunc\u001b[39m.\u001b[39mreduce(obj, axis, dtype, out, \u001b[39m*\u001b[39m\u001b[39m*\u001b[39mpasskwargs)\n",
      "\u001b[0;31mTypeError\u001b[0m: max() received an invalid combination of arguments - got (out=NoneType, axis=int, ), but expected one of:\n * ()\n * (Tensor other)\n * (int dim, bool keepdim)\n      didn't match because some of the keywords were incorrect: out, axis\n * (name dim, bool keepdim)\n      didn't match because some of the keywords were incorrect: out, axis\n"
     ]
    }
   ],
   "source": [
    "print(mmcs(true_emb, emb))\n",
    "print(mmcs(true_emb, emb1))\n",
    "print(metric_total_acti(feat))\n",
    "print(metric_total_acti(feat1))\n",
    "# print(average_r2(ground_truth, feat))\n",
    "# get max feat1, 0\n",
    "chkmax0 = t.maximum(feat1, t.zeros_like(feat1))\n",
    "print(average_r2(ground_truth, chkmax0))\n"
   ]
  },
  {
   "cell_type": "code",
   "execution_count": null,
   "metadata": {},
   "outputs": [],
   "source": []
  }
 ],
 "metadata": {
  "kernelspec": {
   "display_name": "edm",
   "language": "python",
   "name": "python3"
  },
  "language_info": {
   "codemirror_mode": {
    "name": "ipython",
    "version": 3
   },
   "file_extension": ".py",
   "mimetype": "text/x-python",
   "name": "python",
   "nbconvert_exporter": "python",
   "pygments_lexer": "ipython3",
   "version": "3.9.16"
  },
  "orig_nbformat": 4
 },
 "nbformat": 4,
 "nbformat_minor": 2
}
